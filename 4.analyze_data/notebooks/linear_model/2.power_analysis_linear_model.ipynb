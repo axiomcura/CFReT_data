{
 "cells": [
  {
   "cell_type": "markdown",
   "id": "f012082e-e79e-45d6-9465-10eddbea2722",
   "metadata": {},
   "source": [
    "## Perform power analysis given observed linear model effect sizes"
   ]
  },
  {
   "cell_type": "code",
   "execution_count": 1,
   "id": "0ffa9ec7-49ba-4a8c-95e7-16eeb07ab9a9",
   "metadata": {
    "vscode": {
     "languageId": "r"
    }
   },
   "outputs": [],
   "source": [
    "library(pwr)\n",
    "suppressPackageStartupMessages(library(dplyr))"
   ]
  },
  {
   "cell_type": "code",
   "execution_count": 2,
   "id": "e5247d2b-ef92-4cd7-ba31-85725cba5c6d",
   "metadata": {
    "vscode": {
     "languageId": "r"
    }
   },
   "outputs": [],
   "source": [
    "plate <- \"localhost220513100001_KK22-05-198_FactinAdjusted\"\n",
    "\n",
    "lm_results_file <- file.path(\"results\", paste0(plate, \"_linear_model_cp_features.tsv\"))\n",
    "output_file <- file.path(\"results\", paste0(plate, \"_power_analysis_cp_features_lm.tsv\"))"
   ]
  },
  {
   "cell_type": "code",
   "execution_count": 3,
   "id": "821b874e-9a9f-4280-b9fa-8c010b11cc69",
   "metadata": {
    "vscode": {
     "languageId": "r"
    }
   },
   "outputs": [
    {
     "name": "stdout",
     "output_type": "stream",
     "text": [
      "[1] 505   4\n"
     ]
    },
    {
     "data": {
      "text/html": [
       "<table class=\"dataframe\">\n",
       "<caption>A tibble: 6 × 4</caption>\n",
       "<thead>\n",
       "\t<tr><th scope=col>feature</th><th scope=col>r2_score</th><th scope=col>cell_count_coef</th><th scope=col>treatment_dose_coef</th></tr>\n",
       "\t<tr><th scope=col>&lt;chr&gt;</th><th scope=col>&lt;dbl&gt;</th><th scope=col>&lt;dbl&gt;</th><th scope=col>&lt;dbl&gt;</th></tr>\n",
       "</thead>\n",
       "<tbody>\n",
       "\t<tr><td>Cytoplasm_AreaShape_Compactness    </td><td>2.647033e-02</td><td> 4.030892e-04</td><td>-0.050195942</td></tr>\n",
       "\t<tr><td>Cytoplasm_AreaShape_FormFactor     </td><td>7.008457e-02</td><td>-8.281876e-04</td><td> 0.074347347</td></tr>\n",
       "\t<tr><td>Cytoplasm_AreaShape_MajorAxisLength</td><td>5.938975e-02</td><td>-1.345084e-03</td><td> 0.025608622</td></tr>\n",
       "\t<tr><td>Cytoplasm_AreaShape_MinorAxisLength</td><td>6.112660e-02</td><td>-1.350586e-03</td><td> 0.027654612</td></tr>\n",
       "\t<tr><td>Cytoplasm_AreaShape_Orientation    </td><td>8.552248e-05</td><td> 6.251026e-06</td><td> 0.003491483</td></tr>\n",
       "\t<tr><td>Cytoplasm_AreaShape_Zernike_0_0    </td><td>2.856302e-02</td><td>-2.018002e-04</td><td> 0.058909125</td></tr>\n",
       "</tbody>\n",
       "</table>\n"
      ],
      "text/latex": [
       "A tibble: 6 × 4\n",
       "\\begin{tabular}{llll}\n",
       " feature & r2\\_score & cell\\_count\\_coef & treatment\\_dose\\_coef\\\\\n",
       " <chr> & <dbl> & <dbl> & <dbl>\\\\\n",
       "\\hline\n",
       "\t Cytoplasm\\_AreaShape\\_Compactness     & 2.647033e-02 &  4.030892e-04 & -0.050195942\\\\\n",
       "\t Cytoplasm\\_AreaShape\\_FormFactor      & 7.008457e-02 & -8.281876e-04 &  0.074347347\\\\\n",
       "\t Cytoplasm\\_AreaShape\\_MajorAxisLength & 5.938975e-02 & -1.345084e-03 &  0.025608622\\\\\n",
       "\t Cytoplasm\\_AreaShape\\_MinorAxisLength & 6.112660e-02 & -1.350586e-03 &  0.027654612\\\\\n",
       "\t Cytoplasm\\_AreaShape\\_Orientation     & 8.552248e-05 &  6.251026e-06 &  0.003491483\\\\\n",
       "\t Cytoplasm\\_AreaShape\\_Zernike\\_0\\_0     & 2.856302e-02 & -2.018002e-04 &  0.058909125\\\\\n",
       "\\end{tabular}\n"
      ],
      "text/markdown": [
       "\n",
       "A tibble: 6 × 4\n",
       "\n",
       "| feature &lt;chr&gt; | r2_score &lt;dbl&gt; | cell_count_coef &lt;dbl&gt; | treatment_dose_coef &lt;dbl&gt; |\n",
       "|---|---|---|---|\n",
       "| Cytoplasm_AreaShape_Compactness     | 2.647033e-02 |  4.030892e-04 | -0.050195942 |\n",
       "| Cytoplasm_AreaShape_FormFactor      | 7.008457e-02 | -8.281876e-04 |  0.074347347 |\n",
       "| Cytoplasm_AreaShape_MajorAxisLength | 5.938975e-02 | -1.345084e-03 |  0.025608622 |\n",
       "| Cytoplasm_AreaShape_MinorAxisLength | 6.112660e-02 | -1.350586e-03 |  0.027654612 |\n",
       "| Cytoplasm_AreaShape_Orientation     | 8.552248e-05 |  6.251026e-06 |  0.003491483 |\n",
       "| Cytoplasm_AreaShape_Zernike_0_0     | 2.856302e-02 | -2.018002e-04 |  0.058909125 |\n",
       "\n"
      ],
      "text/plain": [
       "  feature                             r2_score     cell_count_coef\n",
       "1 Cytoplasm_AreaShape_Compactness     2.647033e-02  4.030892e-04  \n",
       "2 Cytoplasm_AreaShape_FormFactor      7.008457e-02 -8.281876e-04  \n",
       "3 Cytoplasm_AreaShape_MajorAxisLength 5.938975e-02 -1.345084e-03  \n",
       "4 Cytoplasm_AreaShape_MinorAxisLength 6.112660e-02 -1.350586e-03  \n",
       "5 Cytoplasm_AreaShape_Orientation     8.552248e-05  6.251026e-06  \n",
       "6 Cytoplasm_AreaShape_Zernike_0_0     2.856302e-02 -2.018002e-04  \n",
       "  treatment_dose_coef\n",
       "1 -0.050195942       \n",
       "2  0.074347347       \n",
       "3  0.025608622       \n",
       "4  0.027654612       \n",
       "5  0.003491483       \n",
       "6  0.058909125       "
      ]
     },
     "metadata": {},
     "output_type": "display_data"
    }
   ],
   "source": [
    "# Load linear model results\n",
    "lm_results_df <- readr::read_tsv(\n",
    "    lm_results_file,\n",
    "    col_types = readr::cols(.default=\"d\", feature=\"c\")\n",
    ")\n",
    "\n",
    "print(dim(lm_results_df))\n",
    "head(lm_results_df)"
   ]
  },
  {
   "cell_type": "code",
   "execution_count": 4,
   "id": "206c80dc-934f-4aff-84da-c386b2677e94",
   "metadata": {
    "vscode": {
     "languageId": "r"
    }
   },
   "outputs": [
    {
     "name": "stderr",
     "output_type": "stream",
     "text": [
      "\u001b[1m\u001b[22mNew names:\n",
      "\u001b[36m•\u001b[39m `` -> `...1`\n"
     ]
    },
    {
     "name": "stdout",
     "output_type": "stream",
     "text": [
      "[1] 17995   645\n"
     ]
    },
    {
     "data": {
      "text/html": [
       "<table class=\"dataframe\">\n",
       "<caption>A tibble: 3 × 645</caption>\n",
       "<thead>\n",
       "\t<tr><th scope=col>...1</th><th scope=col>Metadata_WellRow</th><th scope=col>Metadata_WellCol</th><th scope=col>Metadata_number_of_singlecells</th><th scope=col>Metadata_heart_number</th><th scope=col>Metadata_treatment</th><th scope=col>Metadata_dose</th><th scope=col>Metadata_ImageNumber</th><th scope=col>Metadata_Plate</th><th scope=col>Metadata_Well</th><th scope=col>⋯</th><th scope=col>Nuclei_Texture_InverseDifferenceMoment_PM_3_01_256</th><th scope=col>Nuclei_Texture_InverseDifferenceMoment_PM_3_03_256</th><th scope=col>Nuclei_Texture_SumEntropy_ER_3_03_256</th><th scope=col>Nuclei_Texture_SumEntropy_Hoechst_3_00_256</th><th scope=col>Nuclei_Texture_SumEntropy_Mitochondria_3_03_256</th><th scope=col>Nuclei_Texture_SumEntropy_PM_3_01_256</th><th scope=col>Nuclei_Texture_SumVariance_ER_3_03_256</th><th scope=col>Nuclei_Texture_SumVariance_Hoechst_3_01_256</th><th scope=col>Nuclei_Texture_SumVariance_Mitochondria_3_03_256</th><th scope=col>Nuclei_Texture_SumVariance_PM_3_01_256</th></tr>\n",
       "\t<tr><th scope=col>&lt;dbl&gt;</th><th scope=col>&lt;chr&gt;</th><th scope=col>&lt;chr&gt;</th><th scope=col>&lt;dbl&gt;</th><th scope=col>&lt;chr&gt;</th><th scope=col>&lt;chr&gt;</th><th scope=col>&lt;chr&gt;</th><th scope=col>&lt;dbl&gt;</th><th scope=col>&lt;chr&gt;</th><th scope=col>&lt;chr&gt;</th><th scope=col>⋯</th><th scope=col>&lt;dbl&gt;</th><th scope=col>&lt;dbl&gt;</th><th scope=col>&lt;dbl&gt;</th><th scope=col>&lt;dbl&gt;</th><th scope=col>&lt;dbl&gt;</th><th scope=col>&lt;dbl&gt;</th><th scope=col>&lt;dbl&gt;</th><th scope=col>&lt;dbl&gt;</th><th scope=col>&lt;dbl&gt;</th><th scope=col>&lt;dbl&gt;</th></tr>\n",
       "</thead>\n",
       "<tbody>\n",
       "\t<tr><td>0</td><td>A</td><td>9</td><td>357</td><td>9</td><td>drug_x</td><td>5uM</td><td>1</td><td>localhost220513100001_KK22-05-198_FactinAdjusted</td><td>A09</td><td>⋯</td><td>-1.2788029</td><td>-0.8897645</td><td> 0.5844583</td><td>-0.7568114</td><td> 1.6462852</td><td> 1.6277442</td><td>-0.1302769</td><td>-0.32954013</td><td> 0.16874427</td><td> 0.22393503</td></tr>\n",
       "\t<tr><td>1</td><td>A</td><td>9</td><td>357</td><td>9</td><td>drug_x</td><td>5uM</td><td>1</td><td>localhost220513100001_KK22-05-198_FactinAdjusted</td><td>A09</td><td>⋯</td><td> 0.1400462</td><td> 0.1777536</td><td>-1.0356146</td><td>-0.4881881</td><td>-0.9279062</td><td>-0.3785298</td><td>-0.4520701</td><td>-0.30924955</td><td>-0.17971123</td><td>-0.19329881</td></tr>\n",
       "\t<tr><td>2</td><td>A</td><td>9</td><td>357</td><td>9</td><td>drug_x</td><td>5uM</td><td>1</td><td>localhost220513100001_KK22-05-198_FactinAdjusted</td><td>A09</td><td>⋯</td><td>-0.7494158</td><td>-1.6935892</td><td> 0.3866221</td><td> 0.9995438</td><td> 1.1926342</td><td> 1.1170768</td><td>-0.1127250</td><td> 0.04806898</td><td>-0.02098493</td><td> 0.01024755</td></tr>\n",
       "</tbody>\n",
       "</table>\n"
      ],
      "text/latex": [
       "A tibble: 3 × 645\n",
       "\\begin{tabular}{lllllllllllllllllllll}\n",
       " ...1 & Metadata\\_WellRow & Metadata\\_WellCol & Metadata\\_number\\_of\\_singlecells & Metadata\\_heart\\_number & Metadata\\_treatment & Metadata\\_dose & Metadata\\_ImageNumber & Metadata\\_Plate & Metadata\\_Well & ⋯ & Nuclei\\_Texture\\_InverseDifferenceMoment\\_PM\\_3\\_01\\_256 & Nuclei\\_Texture\\_InverseDifferenceMoment\\_PM\\_3\\_03\\_256 & Nuclei\\_Texture\\_SumEntropy\\_ER\\_3\\_03\\_256 & Nuclei\\_Texture\\_SumEntropy\\_Hoechst\\_3\\_00\\_256 & Nuclei\\_Texture\\_SumEntropy\\_Mitochondria\\_3\\_03\\_256 & Nuclei\\_Texture\\_SumEntropy\\_PM\\_3\\_01\\_256 & Nuclei\\_Texture\\_SumVariance\\_ER\\_3\\_03\\_256 & Nuclei\\_Texture\\_SumVariance\\_Hoechst\\_3\\_01\\_256 & Nuclei\\_Texture\\_SumVariance\\_Mitochondria\\_3\\_03\\_256 & Nuclei\\_Texture\\_SumVariance\\_PM\\_3\\_01\\_256\\\\\n",
       " <dbl> & <chr> & <chr> & <dbl> & <chr> & <chr> & <chr> & <dbl> & <chr> & <chr> & ⋯ & <dbl> & <dbl> & <dbl> & <dbl> & <dbl> & <dbl> & <dbl> & <dbl> & <dbl> & <dbl>\\\\\n",
       "\\hline\n",
       "\t 0 & A & 9 & 357 & 9 & drug\\_x & 5uM & 1 & localhost220513100001\\_KK22-05-198\\_FactinAdjusted & A09 & ⋯ & -1.2788029 & -0.8897645 &  0.5844583 & -0.7568114 &  1.6462852 &  1.6277442 & -0.1302769 & -0.32954013 &  0.16874427 &  0.22393503\\\\\n",
       "\t 1 & A & 9 & 357 & 9 & drug\\_x & 5uM & 1 & localhost220513100001\\_KK22-05-198\\_FactinAdjusted & A09 & ⋯ &  0.1400462 &  0.1777536 & -1.0356146 & -0.4881881 & -0.9279062 & -0.3785298 & -0.4520701 & -0.30924955 & -0.17971123 & -0.19329881\\\\\n",
       "\t 2 & A & 9 & 357 & 9 & drug\\_x & 5uM & 1 & localhost220513100001\\_KK22-05-198\\_FactinAdjusted & A09 & ⋯ & -0.7494158 & -1.6935892 &  0.3866221 &  0.9995438 &  1.1926342 &  1.1170768 & -0.1127250 &  0.04806898 & -0.02098493 &  0.01024755\\\\\n",
       "\\end{tabular}\n"
      ],
      "text/markdown": [
       "\n",
       "A tibble: 3 × 645\n",
       "\n",
       "| ...1 &lt;dbl&gt; | Metadata_WellRow &lt;chr&gt; | Metadata_WellCol &lt;chr&gt; | Metadata_number_of_singlecells &lt;dbl&gt; | Metadata_heart_number &lt;chr&gt; | Metadata_treatment &lt;chr&gt; | Metadata_dose &lt;chr&gt; | Metadata_ImageNumber &lt;dbl&gt; | Metadata_Plate &lt;chr&gt; | Metadata_Well &lt;chr&gt; | ⋯ ⋯ | Nuclei_Texture_InverseDifferenceMoment_PM_3_01_256 &lt;dbl&gt; | Nuclei_Texture_InverseDifferenceMoment_PM_3_03_256 &lt;dbl&gt; | Nuclei_Texture_SumEntropy_ER_3_03_256 &lt;dbl&gt; | Nuclei_Texture_SumEntropy_Hoechst_3_00_256 &lt;dbl&gt; | Nuclei_Texture_SumEntropy_Mitochondria_3_03_256 &lt;dbl&gt; | Nuclei_Texture_SumEntropy_PM_3_01_256 &lt;dbl&gt; | Nuclei_Texture_SumVariance_ER_3_03_256 &lt;dbl&gt; | Nuclei_Texture_SumVariance_Hoechst_3_01_256 &lt;dbl&gt; | Nuclei_Texture_SumVariance_Mitochondria_3_03_256 &lt;dbl&gt; | Nuclei_Texture_SumVariance_PM_3_01_256 &lt;dbl&gt; |\n",
       "|---|---|---|---|---|---|---|---|---|---|---|---|---|---|---|---|---|---|---|---|---|\n",
       "| 0 | A | 9 | 357 | 9 | drug_x | 5uM | 1 | localhost220513100001_KK22-05-198_FactinAdjusted | A09 | ⋯ | -1.2788029 | -0.8897645 |  0.5844583 | -0.7568114 |  1.6462852 |  1.6277442 | -0.1302769 | -0.32954013 |  0.16874427 |  0.22393503 |\n",
       "| 1 | A | 9 | 357 | 9 | drug_x | 5uM | 1 | localhost220513100001_KK22-05-198_FactinAdjusted | A09 | ⋯ |  0.1400462 |  0.1777536 | -1.0356146 | -0.4881881 | -0.9279062 | -0.3785298 | -0.4520701 | -0.30924955 | -0.17971123 | -0.19329881 |\n",
       "| 2 | A | 9 | 357 | 9 | drug_x | 5uM | 1 | localhost220513100001_KK22-05-198_FactinAdjusted | A09 | ⋯ | -0.7494158 | -1.6935892 |  0.3866221 |  0.9995438 |  1.1926342 |  1.1170768 | -0.1127250 |  0.04806898 | -0.02098493 |  0.01024755 |\n",
       "\n"
      ],
      "text/plain": [
       "  ...1 Metadata_WellRow Metadata_WellCol Metadata_number_of_singlecells\n",
       "1 0    A                9                357                           \n",
       "2 1    A                9                357                           \n",
       "3 2    A                9                357                           \n",
       "  Metadata_heart_number Metadata_treatment Metadata_dose Metadata_ImageNumber\n",
       "1 9                     drug_x             5uM           1                   \n",
       "2 9                     drug_x             5uM           1                   \n",
       "3 9                     drug_x             5uM           1                   \n",
       "  Metadata_Plate                                   Metadata_Well ⋯\n",
       "1 localhost220513100001_KK22-05-198_FactinAdjusted A09           ⋯\n",
       "2 localhost220513100001_KK22-05-198_FactinAdjusted A09           ⋯\n",
       "3 localhost220513100001_KK22-05-198_FactinAdjusted A09           ⋯\n",
       "  Nuclei_Texture_InverseDifferenceMoment_PM_3_01_256\n",
       "1 -1.2788029                                        \n",
       "2  0.1400462                                        \n",
       "3 -0.7494158                                        \n",
       "  Nuclei_Texture_InverseDifferenceMoment_PM_3_03_256\n",
       "1 -0.8897645                                        \n",
       "2  0.1777536                                        \n",
       "3 -1.6935892                                        \n",
       "  Nuclei_Texture_SumEntropy_ER_3_03_256\n",
       "1  0.5844583                           \n",
       "2 -1.0356146                           \n",
       "3  0.3866221                           \n",
       "  Nuclei_Texture_SumEntropy_Hoechst_3_00_256\n",
       "1 -0.7568114                                \n",
       "2 -0.4881881                                \n",
       "3  0.9995438                                \n",
       "  Nuclei_Texture_SumEntropy_Mitochondria_3_03_256\n",
       "1  1.6462852                                     \n",
       "2 -0.9279062                                     \n",
       "3  1.1926342                                     \n",
       "  Nuclei_Texture_SumEntropy_PM_3_01_256 Nuclei_Texture_SumVariance_ER_3_03_256\n",
       "1  1.6277442                            -0.1302769                            \n",
       "2 -0.3785298                            -0.4520701                            \n",
       "3  1.1170768                            -0.1127250                            \n",
       "  Nuclei_Texture_SumVariance_Hoechst_3_01_256\n",
       "1 -0.32954013                                \n",
       "2 -0.30924955                                \n",
       "3  0.04806898                                \n",
       "  Nuclei_Texture_SumVariance_Mitochondria_3_03_256\n",
       "1  0.16874427                                     \n",
       "2 -0.17971123                                     \n",
       "3 -0.02098493                                     \n",
       "  Nuclei_Texture_SumVariance_PM_3_01_256\n",
       "1  0.22393503                           \n",
       "2 -0.19329881                           \n",
       "3  0.01024755                           "
      ]
     },
     "metadata": {},
     "output_type": "display_data"
    }
   ],
   "source": [
    "# Load feature data (for calculating n)\n",
    "file_suffix = \"_sc_norm_fs_cellprofiler_ic.csv.gz\"\n",
    "data_dir = file.path(\"..\", \"..\", \"..\", \"3.process_cfret_features\", \"data\")\n",
    "cp_file <- file.path(data_dir, paste0(plate, file_suffix))\n",
    "\n",
    "cp_df <- readr::read_csv(\n",
    "    cp_file,\n",
    "    col_types = readr::cols(\n",
    "        .default=\"d\",\n",
    "        Metadata_WellRow=\"c\",\n",
    "        Metadata_WellCol=\"c\",\n",
    "        Metadata_heart_number=\"c\",\n",
    "        Metadata_treatment=\"c\",\n",
    "        Metadata_dose=\"c\",\n",
    "        Metadata_Plate=\"c\",\n",
    "        Metadata_Well=\"c\"\n",
    "    )\n",
    ")\n",
    "\n",
    "print(dim(cp_df))\n",
    "head(cp_df, 3)"
   ]
  },
  {
   "cell_type": "markdown",
   "id": "769f9cb9-4932-4096-8b6c-7c686930a4ba",
   "metadata": {},
   "source": [
    "## Perform power analysis"
   ]
  },
  {
   "cell_type": "code",
   "execution_count": 5,
   "id": "e079d05d-b2e7-4604-bdd5-b322c2e27b10",
   "metadata": {
    "vscode": {
     "languageId": "r"
    }
   },
   "outputs": [
    {
     "name": "stdout",
     "output_type": "stream",
     "text": [
      "[1]     9 17985\n",
      "[1] 9.90099e-05\n"
     ]
    }
   ],
   "source": [
    "# Define constants for power analysis\n",
    "n_conditions <- length(table(cp_df$Metadata_dose))  # The number of doses\n",
    "n_samples <- dim(cp_df)[1]\n",
    "alpha_standard <- 0.05\n",
    "\n",
    "u <- n_conditions - 1\n",
    "v <- n_samples - u - 1\n",
    "sig_level <- alpha_standard / dim(lm_results_df)[1]  # Multiple test adjusted\n",
    "power <- 0.8\n",
    "\n",
    "print(c(u, v))\n",
    "print(sig_level)"
   ]
  },
  {
   "cell_type": "code",
   "execution_count": 6,
   "id": "464feaef-8f07-435f-a8de-6245375fb205",
   "metadata": {
    "vscode": {
     "languageId": "r"
    }
   },
   "outputs": [],
   "source": [
    "# Given all R2 values perform power analysis\n",
    "all_power_results <- list()\n",
    "for (cp_feature in lm_results_df$feature) {\n",
    "    # Subset to the given feature lm results\n",
    "    lm_result_subset_df <- lm_results_df %>%\n",
    "        dplyr::filter(feature == !!cp_feature)\n",
    "    \n",
    "    # Pull out the estimated R2 value\n",
    "    r2_val <- lm_result_subset_df %>% dplyr::pull(r2_score)\n",
    "    \n",
    "    # The power estimate is undefined for r2_val = 1, skip if so\n",
    "    if (r2_val == 1) {\n",
    "        all_power_results[[cp_feature]] <- c(cp_feature, u, v, sig_level, NULL, NULL)\n",
    "        next\n",
    "    }\n",
    "    \n",
    "    # Transform R2 score to F2 effect size\n",
    "    f2_val <- r2_val / (1 - r2_val)\n",
    "    \n",
    "    # Calculate power, note that v contains an estimate of sample size\n",
    "    power_result <- pwr.f2.test(u = u, v = NULL, f2 = f2_val, sig.level = sig_level, power = power)\n",
    "    \n",
    "    # Calculate required sample size from the v formula\n",
    "    estimated_sample_size <- power_result$v + u + 1\n",
    "    \n",
    "    # Save results for future visualization\n",
    "    all_power_results[[cp_feature]] <- c(cp_feature, u, v, sig_level, power, estimated_sample_size)\n",
    "    \n",
    "}"
   ]
  },
  {
   "cell_type": "code",
   "execution_count": 7,
   "id": "96c1f7ab-d7ec-4f62-8b81-e85011e69816",
   "metadata": {
    "vscode": {
     "languageId": "r"
    }
   },
   "outputs": [
    {
     "name": "stderr",
     "output_type": "stream",
     "text": [
      "Warning message:\n",
      "“\u001b[1m\u001b[22mThe `x` argument of `as_tibble.matrix()` must have unique column names if\n",
      "`.name_repair` is omitted as of tibble 2.0.0.\n",
      "\u001b[36mℹ\u001b[39m Using compatibility `.name_repair`.”\n"
     ]
    },
    {
     "name": "stdout",
     "output_type": "stream",
     "text": [
      "[1] 505   6\n"
     ]
    },
    {
     "data": {
      "text/html": [
       "<table class=\"dataframe\">\n",
       "<caption>A tibble: 6 × 6</caption>\n",
       "<thead>\n",
       "\t<tr><th scope=col>feature</th><th scope=col>u</th><th scope=col>v</th><th scope=col>sig_level</th><th scope=col>power</th><th scope=col>estimated_sample_size</th></tr>\n",
       "\t<tr><th scope=col>&lt;chr&gt;</th><th scope=col>&lt;chr&gt;</th><th scope=col>&lt;chr&gt;</th><th scope=col>&lt;chr&gt;</th><th scope=col>&lt;chr&gt;</th><th scope=col>&lt;chr&gt;</th></tr>\n",
       "</thead>\n",
       "<tbody>\n",
       "\t<tr><td>Cytoplasm_AreaShape_Compactness    </td><td>9</td><td>17985</td><td>9.9009900990099e-05</td><td>0.8</td><td>1326.94521098789</td></tr>\n",
       "\t<tr><td>Cytoplasm_AreaShape_FormFactor     </td><td>9</td><td>17985</td><td>9.9009900990099e-05</td><td>0.8</td><td>489.531770286284</td></tr>\n",
       "\t<tr><td>Cytoplasm_AreaShape_MajorAxisLength</td><td>9</td><td>17985</td><td>9.9009900990099e-05</td><td>0.8</td><td>581.053058719846</td></tr>\n",
       "\t<tr><td>Cytoplasm_AreaShape_MinorAxisLength</td><td>9</td><td>17985</td><td>9.9009900990099e-05</td><td>0.8</td><td>564.011687359225</td></tr>\n",
       "\t<tr><td>Cytoplasm_AreaShape_Orientation    </td><td>9</td><td>17985</td><td>9.9009900990099e-05</td><td>0.8</td><td>416473.260741323</td></tr>\n",
       "\t<tr><td>Cytoplasm_AreaShape_Zernike_0_0    </td><td>9</td><td>17985</td><td>9.9009900990099e-05</td><td>0.8</td><td>1228.35388406464</td></tr>\n",
       "</tbody>\n",
       "</table>\n"
      ],
      "text/latex": [
       "A tibble: 6 × 6\n",
       "\\begin{tabular}{llllll}\n",
       " feature & u & v & sig\\_level & power & estimated\\_sample\\_size\\\\\n",
       " <chr> & <chr> & <chr> & <chr> & <chr> & <chr>\\\\\n",
       "\\hline\n",
       "\t Cytoplasm\\_AreaShape\\_Compactness     & 9 & 17985 & 9.9009900990099e-05 & 0.8 & 1326.94521098789\\\\\n",
       "\t Cytoplasm\\_AreaShape\\_FormFactor      & 9 & 17985 & 9.9009900990099e-05 & 0.8 & 489.531770286284\\\\\n",
       "\t Cytoplasm\\_AreaShape\\_MajorAxisLength & 9 & 17985 & 9.9009900990099e-05 & 0.8 & 581.053058719846\\\\\n",
       "\t Cytoplasm\\_AreaShape\\_MinorAxisLength & 9 & 17985 & 9.9009900990099e-05 & 0.8 & 564.011687359225\\\\\n",
       "\t Cytoplasm\\_AreaShape\\_Orientation     & 9 & 17985 & 9.9009900990099e-05 & 0.8 & 416473.260741323\\\\\n",
       "\t Cytoplasm\\_AreaShape\\_Zernike\\_0\\_0     & 9 & 17985 & 9.9009900990099e-05 & 0.8 & 1228.35388406464\\\\\n",
       "\\end{tabular}\n"
      ],
      "text/markdown": [
       "\n",
       "A tibble: 6 × 6\n",
       "\n",
       "| feature &lt;chr&gt; | u &lt;chr&gt; | v &lt;chr&gt; | sig_level &lt;chr&gt; | power &lt;chr&gt; | estimated_sample_size &lt;chr&gt; |\n",
       "|---|---|---|---|---|---|\n",
       "| Cytoplasm_AreaShape_Compactness     | 9 | 17985 | 9.9009900990099e-05 | 0.8 | 1326.94521098789 |\n",
       "| Cytoplasm_AreaShape_FormFactor      | 9 | 17985 | 9.9009900990099e-05 | 0.8 | 489.531770286284 |\n",
       "| Cytoplasm_AreaShape_MajorAxisLength | 9 | 17985 | 9.9009900990099e-05 | 0.8 | 581.053058719846 |\n",
       "| Cytoplasm_AreaShape_MinorAxisLength | 9 | 17985 | 9.9009900990099e-05 | 0.8 | 564.011687359225 |\n",
       "| Cytoplasm_AreaShape_Orientation     | 9 | 17985 | 9.9009900990099e-05 | 0.8 | 416473.260741323 |\n",
       "| Cytoplasm_AreaShape_Zernike_0_0     | 9 | 17985 | 9.9009900990099e-05 | 0.8 | 1228.35388406464 |\n",
       "\n"
      ],
      "text/plain": [
       "  feature                             u v     sig_level           power\n",
       "1 Cytoplasm_AreaShape_Compactness     9 17985 9.9009900990099e-05 0.8  \n",
       "2 Cytoplasm_AreaShape_FormFactor      9 17985 9.9009900990099e-05 0.8  \n",
       "3 Cytoplasm_AreaShape_MajorAxisLength 9 17985 9.9009900990099e-05 0.8  \n",
       "4 Cytoplasm_AreaShape_MinorAxisLength 9 17985 9.9009900990099e-05 0.8  \n",
       "5 Cytoplasm_AreaShape_Orientation     9 17985 9.9009900990099e-05 0.8  \n",
       "6 Cytoplasm_AreaShape_Zernike_0_0     9 17985 9.9009900990099e-05 0.8  \n",
       "  estimated_sample_size\n",
       "1 1326.94521098789     \n",
       "2 489.531770286284     \n",
       "3 581.053058719846     \n",
       "4 564.011687359225     \n",
       "5 416473.260741323     \n",
       "6 1228.35388406464     "
      ]
     },
     "metadata": {},
     "output_type": "display_data"
    }
   ],
   "source": [
    "# Compile and output results\n",
    "power_results_df <- do.call(rbind, all_power_results) %>% dplyr::as_tibble()\n",
    "\n",
    "colnames(power_results_df) <- c(\"feature\", \"u\", \"v\", \"sig_level\", \"power\", \"estimated_sample_size\")\n",
    "\n",
    "# Output to file\n",
    "power_results_df %>%\n",
    "    readr::write_tsv(output_file)\n",
    "\n",
    "print(dim(power_results_df))\n",
    "head(power_results_df)"
   ]
  }
 ],
 "metadata": {
  "kernelspec": {
   "display_name": "R",
   "language": "R",
   "name": "ir"
  },
  "language_info": {
   "codemirror_mode": "r",
   "file_extension": ".r",
   "mimetype": "text/x-r-source",
   "name": "R",
   "pygments_lexer": "r",
   "version": "4.2.3"
  }
 },
 "nbformat": 4,
 "nbformat_minor": 5
}
